{
 "cells": [
  {
   "cell_type": "markdown",
   "metadata": {},
   "source": [
    "Crear una sesion en spark"
   ]
  },
  {
   "cell_type": "code",
   "execution_count": 3,
   "metadata": {},
   "outputs": [],
   "source": [
    "from pyspark.sql import SparkSession\n",
    "from pyspark import SparkContext\n",
    "\n",
    "SparkSession = SparkSession \\\n",
    "                .builder \\\n",
    "                .appName(\"Demo Spark\") \\\n",
    "                .getOrCreate()"
   ]
  },
  {
   "cell_type": "code",
   "execution_count": 4,
   "metadata": {},
   "outputs": [],
   "source": [
    "SpContext = SparkSession.sparkContext"
   ]
  },
  {
   "cell_type": "markdown",
   "metadata": {},
   "source": [
    "Carga de datos"
   ]
  },
  {
   "cell_type": "code",
   "execution_count": 7,
   "metadata": {},
   "outputs": [
    {
     "name": "stdout",
     "output_type": "stream",
     "text": [
      "+-----------+-------------------+--------------------+----------------+----+---------+-------------------+------+------------+----------+--------------------+----------+------------------------+---------------------+---------+---------------+--------------+-------------------+------------------+------+--------------------+----------------+------------------+-------------------+------------+--------------+--------------------+------------------------+------------------+------------------+----------+\n",
      "|FECHA_CORTE|ULTIMO_MES_CONSUMOS|  CODIGO_ANONIMIZADO|FECHA_NACIMIENTO|EDAD|     SEXO|FECHA_FALLECIMIENTO|UBIGEO|DEPARTAMENTO| PROVINCIA|            DISTRITO|NIVEL_EESS|CODIGO_SERV_PRESTACIONAL|SERVICIO_PRESTACIONAL|DIAS_HOSP|ID_REGISTRO_REL|FECHA_ATENCION|TIPO_PERSONAL_SALUD|FECATE_POST_FECFED|CODDIA|          C10_NOMBRE|TIPO_DIAGNOSTICO|PRES_ART_SISTOLICA|PRES_ART_DIASTOLICA|TIPO_CONSUMO|CODIGO_CONSUMO|      NOMBRE_CONSUMO|PRESENTACION_MEDICAMENTO|FORMA_FARMACEUTICA|CANTIDAD_ENTREGADA|VALOR_NETO|\n",
      "+-----------+-------------------+--------------------+----------------+----+---------+-------------------+------+------------+----------+--------------------+----------+------------------------+---------------------+---------+---------------+--------------+-------------------+------------------+------+--------------------+----------------+------------------+-------------------+------------+--------------+--------------------+------------------------+------------------+------------------+----------+\n",
      "|   20240617|             202309|FFDFCB0F1263583AA...|        19581220|  63| FEMENINO|               NULL|150135|        LIMA|      LIMA|SAN MARTÍN DE PORRES|         3|                     070| ATENCIÓN ODONTOLÓ...|     NULL|   HT0043968971|      20220603|   TECNOLOGO MEDICO|                SI|  K041|NECROSIS DE LA PULPA| DEFINITIVO     |              NULL|               NULL| MEDICAMENTO|         06519|       YODO POVIDONA|                  120 mL|               SOL|                 1|     2.313|\n",
      "|   20240617|             202309|991D0ABACAC7A6DEF...|        19430310|  79|MASCULINO|           20230810|150110|        LIMA|      LIMA|               COMAS|         3|                     056|     CONSULTA EXTERNA|     NULL|   HT0040979185|      20230202|             MEDICO|                SI|  J449|ENFERMEDAD PULMON...| REPETIDO       |              NULL|               NULL| MEDICAMENTO|         01358|          BUDESONIDA|               200 DOSIS|               AER|                 1|         8|\n",
      "|   20240617|             202309|AB15E7A5EFBF38FF2...|        19451111|  77| FEMENINO|               NULL|200115|       PIURA|     PIURA|VEINTISEIS DE OCT...|         1|                     056|     CONSULTA EXTERNA|     NULL|   HT0051281114|      20230104|             MEDICO|                SI|  N390|INFECCION DE VIAS...| DEFINITIVO     |               130|                 70| MEDICAMENTO|         01636|          CEFALEXINA|                    NULL|               TAB|                24|         0|\n",
      "|   20240617|             202309|90328B68852C4463C...|        19610207|  61|MASCULINO|               NULL|150135|        LIMA|      LIMA|SAN MARTÍN DE PORRES|         3|                     056|     CONSULTA EXTERNA|     NULL|   HT0036018024|      20221103|             MEDICO|                SI|  I10X|HIPERTENSION ESEN...| REPETIDO       |              NULL|               NULL| MEDICAMENTO|         00673|AMLODIPINO (COMO ...|                    NULL|               TAB|                60|       3.6|\n",
      "|   20240617|             202309|BCAF505B2DAA8F531...|        19370107|  85|MASCULINO|           20230322|120201|       JUNÍN|CONCEPCIÓN|          CONCEPCIÓN|         2|                     056|     CONSULTA EXTERNA|     NULL|   HT0055800652|      20221220|             MEDICO|                SI|  C188|LESION DE SITIOS ...| REPETIDO       |               128|                 70| MEDICAMENTO|         02922|          SIMETICONA|                   15 mL|               SUS|                 2|     8.224|\n",
      "+-----------+-------------------+--------------------+----------------+----+---------+-------------------+------+------------+----------+--------------------+----------+------------------------+---------------------+---------+---------------+--------------+-------------------+------------------+------+--------------------+----------------+------------------+-------------------+------------+--------------+--------------------+------------------------+------------------+------------------+----------+\n",
      "only showing top 5 rows\n",
      "\n"
     ]
    }
   ],
   "source": [
    "data = SparkSession.read.csv(\"C:\\\\Users\\\\lxcar\\\\OneDrive\\\\Desktop\\\\Datathon 2024\\\\datathon2024\\\\data\\\\Prestaciones de salud asociadas a los asegurados con Hipertensión Arterial.csv\", header=True, sep=\",\")\n",
    "data.show(5)"
   ]
  },
  {
   "cell_type": "code",
   "execution_count": 26,
   "metadata": {},
   "outputs": [],
   "source": [
    "row_before = data.count()"
   ]
  },
  {
   "cell_type": "code",
   "execution_count": 27,
   "metadata": {},
   "outputs": [
    {
     "data": {
      "text/plain": [
       "57499950"
      ]
     },
     "execution_count": 27,
     "metadata": {},
     "output_type": "execute_result"
    }
   ],
   "source": [
    "row_before"
   ]
  },
  {
   "cell_type": "markdown",
   "metadata": {},
   "source": [
    "Funciones - conociendo la data"
   ]
  },
  {
   "cell_type": "code",
   "execution_count": 9,
   "metadata": {},
   "outputs": [
    {
     "name": "stdout",
     "output_type": "stream",
     "text": [
      "root\n",
      " |-- FECHA_CORTE: string (nullable = true)\n",
      " |-- ULTIMO_MES_CONSUMOS: string (nullable = true)\n",
      " |-- CODIGO_ANONIMIZADO: string (nullable = true)\n",
      " |-- FECHA_NACIMIENTO: string (nullable = true)\n",
      " |-- EDAD: string (nullable = true)\n",
      " |-- SEXO: string (nullable = true)\n",
      " |-- FECHA_FALLECIMIENTO: string (nullable = true)\n",
      " |-- UBIGEO: string (nullable = true)\n",
      " |-- DEPARTAMENTO: string (nullable = true)\n",
      " |-- PROVINCIA: string (nullable = true)\n",
      " |-- DISTRITO: string (nullable = true)\n",
      " |-- NIVEL_EESS: string (nullable = true)\n",
      " |-- CODIGO_SERV_PRESTACIONAL: string (nullable = true)\n",
      " |-- SERVICIO_PRESTACIONAL: string (nullable = true)\n",
      " |-- DIAS_HOSP: string (nullable = true)\n",
      " |-- ID_REGISTRO_REL: string (nullable = true)\n",
      " |-- FECHA_ATENCION: string (nullable = true)\n",
      " |-- TIPO_PERSONAL_SALUD: string (nullable = true)\n",
      " |-- FECATE_POST_FECFED: string (nullable = true)\n",
      " |-- CODDIA: string (nullable = true)\n",
      " |-- C10_NOMBRE: string (nullable = true)\n",
      " |-- TIPO_DIAGNOSTICO: string (nullable = true)\n",
      " |-- PRES_ART_SISTOLICA: string (nullable = true)\n",
      " |-- PRES_ART_DIASTOLICA: string (nullable = true)\n",
      " |-- TIPO_CONSUMO: string (nullable = true)\n",
      " |-- CODIGO_CONSUMO: string (nullable = true)\n",
      " |-- NOMBRE_CONSUMO: string (nullable = true)\n",
      " |-- PRESENTACION_MEDICAMENTO: string (nullable = true)\n",
      " |-- FORMA_FARMACEUTICA: string (nullable = true)\n",
      " |-- CANTIDAD_ENTREGADA: string (nullable = true)\n",
      " |-- VALOR_NETO: string (nullable = true)\n",
      "\n"
     ]
    }
   ],
   "source": [
    "data.printSchema()"
   ]
  },
  {
   "cell_type": "code",
   "execution_count": 11,
   "metadata": {},
   "outputs": [
    {
     "data": {
      "text/plain": [
       "['FECHA_CORTE',\n",
       " 'ULTIMO_MES_CONSUMOS',\n",
       " 'CODIGO_ANONIMIZADO',\n",
       " 'FECHA_NACIMIENTO',\n",
       " 'EDAD',\n",
       " 'SEXO',\n",
       " 'FECHA_FALLECIMIENTO',\n",
       " 'UBIGEO',\n",
       " 'DEPARTAMENTO',\n",
       " 'PROVINCIA',\n",
       " 'DISTRITO',\n",
       " 'NIVEL_EESS',\n",
       " 'CODIGO_SERV_PRESTACIONAL',\n",
       " 'SERVICIO_PRESTACIONAL',\n",
       " 'DIAS_HOSP',\n",
       " 'ID_REGISTRO_REL',\n",
       " 'FECHA_ATENCION',\n",
       " 'TIPO_PERSONAL_SALUD',\n",
       " 'FECATE_POST_FECFED',\n",
       " 'CODDIA',\n",
       " 'C10_NOMBRE',\n",
       " 'TIPO_DIAGNOSTICO',\n",
       " 'PRES_ART_SISTOLICA',\n",
       " 'PRES_ART_DIASTOLICA',\n",
       " 'TIPO_CONSUMO',\n",
       " 'CODIGO_CONSUMO',\n",
       " 'NOMBRE_CONSUMO',\n",
       " 'PRESENTACION_MEDICAMENTO',\n",
       " 'FORMA_FARMACEUTICA',\n",
       " 'CANTIDAD_ENTREGADA',\n",
       " 'VALOR_NETO']"
      ]
     },
     "execution_count": 11,
     "metadata": {},
     "output_type": "execute_result"
    }
   ],
   "source": [
    "data.columns"
   ]
  },
  {
   "cell_type": "code",
   "execution_count": 12,
   "metadata": {},
   "outputs": [
    {
     "data": {
      "text/plain": [
       "[('FECHA_CORTE', 'string'),\n",
       " ('ULTIMO_MES_CONSUMOS', 'string'),\n",
       " ('CODIGO_ANONIMIZADO', 'string'),\n",
       " ('FECHA_NACIMIENTO', 'string'),\n",
       " ('EDAD', 'string'),\n",
       " ('SEXO', 'string'),\n",
       " ('FECHA_FALLECIMIENTO', 'string'),\n",
       " ('UBIGEO', 'string'),\n",
       " ('DEPARTAMENTO', 'string'),\n",
       " ('PROVINCIA', 'string'),\n",
       " ('DISTRITO', 'string'),\n",
       " ('NIVEL_EESS', 'string'),\n",
       " ('CODIGO_SERV_PRESTACIONAL', 'string'),\n",
       " ('SERVICIO_PRESTACIONAL', 'string'),\n",
       " ('DIAS_HOSP', 'string'),\n",
       " ('ID_REGISTRO_REL', 'string'),\n",
       " ('FECHA_ATENCION', 'string'),\n",
       " ('TIPO_PERSONAL_SALUD', 'string'),\n",
       " ('FECATE_POST_FECFED', 'string'),\n",
       " ('CODDIA', 'string'),\n",
       " ('C10_NOMBRE', 'string'),\n",
       " ('TIPO_DIAGNOSTICO', 'string'),\n",
       " ('PRES_ART_SISTOLICA', 'string'),\n",
       " ('PRES_ART_DIASTOLICA', 'string'),\n",
       " ('TIPO_CONSUMO', 'string'),\n",
       " ('CODIGO_CONSUMO', 'string'),\n",
       " ('NOMBRE_CONSUMO', 'string'),\n",
       " ('PRESENTACION_MEDICAMENTO', 'string'),\n",
       " ('FORMA_FARMACEUTICA', 'string'),\n",
       " ('CANTIDAD_ENTREGADA', 'string'),\n",
       " ('VALOR_NETO', 'string')]"
      ]
     },
     "execution_count": 12,
     "metadata": {},
     "output_type": "execute_result"
    }
   ],
   "source": [
    "data.dtypes"
   ]
  },
  {
   "cell_type": "markdown",
   "metadata": {},
   "source": [
    "Seleccion de Columas"
   ]
  },
  {
   "cell_type": "code",
   "execution_count": 15,
   "metadata": {},
   "outputs": [
    {
     "name": "stdout",
     "output_type": "stream",
     "text": [
      "+----------------+\n",
      "|TIPO_DIAGNOSTICO|\n",
      "+----------------+\n",
      "|DEFINITIVO      |\n",
      "|REPETIDO        |\n",
      "|DEFINITIVO      |\n",
      "|REPETIDO        |\n",
      "|REPETIDO        |\n",
      "|DEFINITIVO      |\n",
      "|DEFINITIVO      |\n",
      "|REPETIDO        |\n",
      "|DEFINITIVO      |\n",
      "|DEFINITIVO      |\n",
      "|REPETIDO        |\n",
      "|DEFINITIVO      |\n",
      "|DEFINITIVO      |\n",
      "|DEFINITIVO      |\n",
      "|DEFINITIVO      |\n",
      "|DEFINITIVO      |\n",
      "|DEFINITIVO      |\n",
      "|DEFINITIVO      |\n",
      "|PRESUNTIVO      |\n",
      "|REPETIDO        |\n",
      "+----------------+\n",
      "only showing top 20 rows\n",
      "\n"
     ]
    }
   ],
   "source": [
    "# Método 1\n",
    "data.select(data.TIPO_DIAGNOSTICO).show(truncate=False) # Truncate para no cortar las palabras de resultado"
   ]
  },
  {
   "cell_type": "code",
   "execution_count": 17,
   "metadata": {},
   "outputs": [
    {
     "name": "stdout",
     "output_type": "stream",
     "text": [
      "+----------------+\n",
      "|TIPO_DIAGNOSTICO|\n",
      "+----------------+\n",
      "|DEFINITIVO      |\n",
      "|REPETIDO        |\n",
      "|DEFINITIVO      |\n",
      "|REPETIDO        |\n",
      "|REPETIDO        |\n",
      "|DEFINITIVO      |\n",
      "|DEFINITIVO      |\n",
      "|REPETIDO        |\n",
      "|DEFINITIVO      |\n",
      "|DEFINITIVO      |\n",
      "|REPETIDO        |\n",
      "|DEFINITIVO      |\n",
      "|DEFINITIVO      |\n",
      "|DEFINITIVO      |\n",
      "|DEFINITIVO      |\n",
      "|DEFINITIVO      |\n",
      "|DEFINITIVO      |\n",
      "|DEFINITIVO      |\n",
      "|PRESUNTIVO      |\n",
      "|REPETIDO        |\n",
      "+----------------+\n",
      "only showing top 20 rows\n",
      "\n"
     ]
    }
   ],
   "source": [
    "# Método 2\n",
    "\n",
    "data.select(data['TIPO_DIAGNOSTICO']).show(truncate=False)\n"
   ]
  },
  {
   "cell_type": "code",
   "execution_count": 19,
   "metadata": {},
   "outputs": [
    {
     "name": "stdout",
     "output_type": "stream",
     "text": [
      "+----------------+\n",
      "|TIPO_DIAGNOSTICO|\n",
      "+----------------+\n",
      "|DEFINITIVO      |\n",
      "|REPETIDO        |\n",
      "|DEFINITIVO      |\n",
      "|REPETIDO        |\n",
      "|REPETIDO        |\n",
      "|DEFINITIVO      |\n",
      "|DEFINITIVO      |\n",
      "|REPETIDO        |\n",
      "|DEFINITIVO      |\n",
      "|DEFINITIVO      |\n",
      "|REPETIDO        |\n",
      "|DEFINITIVO      |\n",
      "|DEFINITIVO      |\n",
      "|DEFINITIVO      |\n",
      "|DEFINITIVO      |\n",
      "|DEFINITIVO      |\n",
      "|DEFINITIVO      |\n",
      "|DEFINITIVO      |\n",
      "|PRESUNTIVO      |\n",
      "|REPETIDO        |\n",
      "+----------------+\n",
      "only showing top 20 rows\n",
      "\n"
     ]
    }
   ],
   "source": [
    "# Método 3\n",
    "from pyspark.sql.functions import col\n",
    "\n",
    "data.select(col('TIPO_DIAGNOSTICO')).show(truncate=False)"
   ]
  },
  {
   "cell_type": "markdown",
   "metadata": {},
   "source": [
    "Seleccionar mas de dos columnas"
   ]
  },
  {
   "cell_type": "code",
   "execution_count": 20,
   "metadata": {},
   "outputs": [
    {
     "name": "stdout",
     "output_type": "stream",
     "text": [
      "+----------------+------------+\n",
      "|TIPO_DIAGNOSTICO|DEPARTAMENTO|\n",
      "+----------------+------------+\n",
      "| DEFINITIVO     |        LIMA|\n",
      "| REPETIDO       |        LIMA|\n",
      "| DEFINITIVO     |       PIURA|\n",
      "| REPETIDO       |        LIMA|\n",
      "| REPETIDO       |       JUNÍN|\n",
      "| DEFINITIVO     |        LIMA|\n",
      "| DEFINITIVO     |  SAN MARTÍN|\n",
      "| REPETIDO       |        LIMA|\n",
      "| DEFINITIVO     |     UCAYALI|\n",
      "| DEFINITIVO     |      ÁNCASH|\n",
      "| REPETIDO       |      LORETO|\n",
      "| DEFINITIVO     |       PIURA|\n",
      "| DEFINITIVO     |        LIMA|\n",
      "| DEFINITIVO     |  SAN MARTÍN|\n",
      "| DEFINITIVO     |     HUÁNUCO|\n",
      "| DEFINITIVO     |       PASCO|\n",
      "| DEFINITIVO     |  SAN MARTÍN|\n",
      "| DEFINITIVO     |    MOQUEGUA|\n",
      "| PRESUNTIVO     |  LAMBAYEQUE|\n",
      "| REPETIDO       |        LIMA|\n",
      "+----------------+------------+\n",
      "only showing top 20 rows\n",
      "\n"
     ]
    }
   ],
   "source": [
    "# Método 1\n",
    "\n",
    "data.select(data.TIPO_DIAGNOSTICO,data.DEPARTAMENTO).show()"
   ]
  },
  {
   "cell_type": "code",
   "execution_count": 21,
   "metadata": {},
   "outputs": [
    {
     "name": "stdout",
     "output_type": "stream",
     "text": [
      "+----------------+------------+\n",
      "|TIPO_DIAGNOSTICO|DEPARTAMENTO|\n",
      "+----------------+------------+\n",
      "| DEFINITIVO     |        LIMA|\n",
      "| REPETIDO       |        LIMA|\n",
      "| DEFINITIVO     |       PIURA|\n",
      "| REPETIDO       |        LIMA|\n",
      "| REPETIDO       |       JUNÍN|\n",
      "| DEFINITIVO     |        LIMA|\n",
      "| DEFINITIVO     |  SAN MARTÍN|\n",
      "| REPETIDO       |        LIMA|\n",
      "| DEFINITIVO     |     UCAYALI|\n",
      "| DEFINITIVO     |      ÁNCASH|\n",
      "| REPETIDO       |      LORETO|\n",
      "| DEFINITIVO     |       PIURA|\n",
      "| DEFINITIVO     |        LIMA|\n",
      "| DEFINITIVO     |  SAN MARTÍN|\n",
      "| DEFINITIVO     |     HUÁNUCO|\n",
      "| DEFINITIVO     |       PASCO|\n",
      "| DEFINITIVO     |  SAN MARTÍN|\n",
      "| DEFINITIVO     |    MOQUEGUA|\n",
      "| PRESUNTIVO     |  LAMBAYEQUE|\n",
      "| REPETIDO       |        LIMA|\n",
      "+----------------+------------+\n",
      "only showing top 20 rows\n",
      "\n"
     ]
    }
   ],
   "source": [
    "# Método 2\n",
    "\n",
    "data.select(data['TIPO_DIAGNOSTICO'],data['DEPARTAMENTO']).show()"
   ]
  },
  {
   "cell_type": "code",
   "execution_count": 24,
   "metadata": {},
   "outputs": [
    {
     "name": "stdout",
     "output_type": "stream",
     "text": [
      "+----------------+------------+\n",
      "|tIPO_DIAGNOSTICO|DEPARTAMENTO|\n",
      "+----------------+------------+\n",
      "| DEFINITIVO     |        LIMA|\n",
      "| REPETIDO       |        LIMA|\n",
      "| DEFINITIVO     |       PIURA|\n",
      "| REPETIDO       |        LIMA|\n",
      "| REPETIDO       |       JUNÍN|\n",
      "| DEFINITIVO     |        LIMA|\n",
      "| DEFINITIVO     |  SAN MARTÍN|\n",
      "| REPETIDO       |        LIMA|\n",
      "| DEFINITIVO     |     UCAYALI|\n",
      "| DEFINITIVO     |      ÁNCASH|\n",
      "| REPETIDO       |      LORETO|\n",
      "| DEFINITIVO     |       PIURA|\n",
      "| DEFINITIVO     |        LIMA|\n",
      "| DEFINITIVO     |  SAN MARTÍN|\n",
      "| DEFINITIVO     |     HUÁNUCO|\n",
      "| DEFINITIVO     |       PASCO|\n",
      "| DEFINITIVO     |  SAN MARTÍN|\n",
      "| DEFINITIVO     |    MOQUEGUA|\n",
      "| PRESUNTIVO     |  LAMBAYEQUE|\n",
      "| REPETIDO       |        LIMA|\n",
      "+----------------+------------+\n",
      "only showing top 20 rows\n",
      "\n"
     ]
    }
   ],
   "source": [
    "# Método 3\n",
    "from pyspark.sql.functions import col\n",
    "\n",
    "data.select(col('tIPO_DIAGNOSTICO'), col('DEPARTAMENTO')).show() "
   ]
  },
  {
   "cell_type": "markdown",
   "metadata": {},
   "source": [
    "Limpieza"
   ]
  },
  {
   "cell_type": "code",
   "execution_count": 25,
   "metadata": {},
   "outputs": [],
   "source": [
    "df = data.dropDuplicates()"
   ]
  },
  {
   "cell_type": "code",
   "execution_count": 28,
   "metadata": {},
   "outputs": [
    {
     "data": {
      "text/plain": [
       "57499950"
      ]
     },
     "execution_count": 28,
     "metadata": {},
     "output_type": "execute_result"
    }
   ],
   "source": [
    "df_after  = df.count()"
   ]
  },
  {
   "cell_type": "markdown",
   "metadata": {},
   "source": [
    "# Manejo de valores nulos"
   ]
  },
  {
   "cell_type": "code",
   "execution_count": null,
   "metadata": {},
   "outputs": [],
   "source": [
    "# Contar filas con valores nulos\n"
   ]
  }
 ],
 "metadata": {
  "kernelspec": {
   "display_name": "datathon2024",
   "language": "python",
   "name": "python3"
  },
  "language_info": {
   "codemirror_mode": {
    "name": "ipython",
    "version": 3
   },
   "file_extension": ".py",
   "mimetype": "text/x-python",
   "name": "python",
   "nbconvert_exporter": "python",
   "pygments_lexer": "ipython3",
   "version": "3.11.9"
  }
 },
 "nbformat": 4,
 "nbformat_minor": 2
}
