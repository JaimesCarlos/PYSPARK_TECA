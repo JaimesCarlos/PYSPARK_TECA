{
 "cells": [
  {
   "cell_type": "markdown",
   "metadata": {},
   "source": [
    "Librerias"
   ]
  },
  {
   "cell_type": "code",
   "execution_count": 17,
   "metadata": {},
   "outputs": [],
   "source": [
    "import numpy as np\n",
    "import pandas as pd"
   ]
  },
  {
   "cell_type": "code",
   "execution_count": 16,
   "metadata": {},
   "outputs": [],
   "source": [
    "csv_file = \"C:\\\\Users\\lxcar\\\\OneDrive\\\\Desktop\\\\Datathon 2024\\\\datathon2024\\\\data\\\\Prestaciones de salud asociadas a los asegurados con Hipertensión Arterial.csv\""
   ]
  },
  {
   "cell_type": "markdown",
   "metadata": {},
   "source": [
    "## LIMPIEZA DE DATOS"
   ]
  },
  {
   "cell_type": "code",
   "execution_count": 28,
   "metadata": {},
   "outputs": [],
   "source": [
    "import pandas as pd\n",
    "chunk_size = 10**6 # Millon de datos\n",
    "df_chunks = pd.read_csv(csv_file, chunksize=chunk_size)\n",
    "\n",
    "df = next(df_chunks)  # Primer fragmento como un dataframe"
   ]
  },
  {
   "cell_type": "code",
   "execution_count": 32,
   "metadata": {},
   "outputs": [
    {
     "data": {
      "text/html": [
       "<div>\n",
       "<style scoped>\n",
       "    .dataframe tbody tr th:only-of-type {\n",
       "        vertical-align: middle;\n",
       "    }\n",
       "\n",
       "    .dataframe tbody tr th {\n",
       "        vertical-align: top;\n",
       "    }\n",
       "\n",
       "    .dataframe thead th {\n",
       "        text-align: right;\n",
       "    }\n",
       "</style>\n",
       "<table border=\"1\" class=\"dataframe\">\n",
       "  <thead>\n",
       "    <tr style=\"text-align: right;\">\n",
       "      <th></th>\n",
       "      <th>FECHA_CORTE</th>\n",
       "      <th>ULTIMO_MES_CONSUMOS</th>\n",
       "      <th>CODIGO_ANONIMIZADO</th>\n",
       "      <th>FECHA_NACIMIENTO</th>\n",
       "      <th>EDAD</th>\n",
       "      <th>SEXO</th>\n",
       "      <th>FECHA_FALLECIMIENTO</th>\n",
       "      <th>UBIGEO</th>\n",
       "      <th>DEPARTAMENTO</th>\n",
       "      <th>PROVINCIA</th>\n",
       "      <th>...</th>\n",
       "      <th>TIPO_DIAGNOSTICO</th>\n",
       "      <th>PRES_ART_SISTOLICA</th>\n",
       "      <th>PRES_ART_DIASTOLICA</th>\n",
       "      <th>TIPO_CONSUMO</th>\n",
       "      <th>CODIGO_CONSUMO</th>\n",
       "      <th>NOMBRE_CONSUMO</th>\n",
       "      <th>PRESENTACION_MEDICAMENTO</th>\n",
       "      <th>FORMA_FARMACEUTICA</th>\n",
       "      <th>CANTIDAD_ENTREGADA</th>\n",
       "      <th>VALOR_NETO</th>\n",
       "    </tr>\n",
       "  </thead>\n",
       "  <tbody>\n",
       "    <tr>\n",
       "      <th>0</th>\n",
       "      <td>20240617</td>\n",
       "      <td>202309</td>\n",
       "      <td>FFDFCB0F1263583AAEE30C7B09CF4677F8920507437D5B...</td>\n",
       "      <td>19581220</td>\n",
       "      <td>63</td>\n",
       "      <td>FEMENINO</td>\n",
       "      <td>NaN</td>\n",
       "      <td>150135</td>\n",
       "      <td>LIMA</td>\n",
       "      <td>LIMA</td>\n",
       "      <td>...</td>\n",
       "      <td>DEFINITIVO</td>\n",
       "      <td>NaN</td>\n",
       "      <td>NaN</td>\n",
       "      <td>MEDICAMENTO</td>\n",
       "      <td>06519</td>\n",
       "      <td>YODO POVIDONA</td>\n",
       "      <td>120 mL</td>\n",
       "      <td>SOL</td>\n",
       "      <td>1.0</td>\n",
       "      <td>2.313</td>\n",
       "    </tr>\n",
       "    <tr>\n",
       "      <th>1</th>\n",
       "      <td>20240617</td>\n",
       "      <td>202309</td>\n",
       "      <td>991D0ABACAC7A6DEF8B23E1400E11D6A943BEEF10118A1...</td>\n",
       "      <td>19430310</td>\n",
       "      <td>79</td>\n",
       "      <td>MASCULINO</td>\n",
       "      <td>20230810.0</td>\n",
       "      <td>150110</td>\n",
       "      <td>LIMA</td>\n",
       "      <td>LIMA</td>\n",
       "      <td>...</td>\n",
       "      <td>REPETIDO</td>\n",
       "      <td>NaN</td>\n",
       "      <td>NaN</td>\n",
       "      <td>MEDICAMENTO</td>\n",
       "      <td>01358</td>\n",
       "      <td>BUDESONIDA</td>\n",
       "      <td>200 DOSIS</td>\n",
       "      <td>AER</td>\n",
       "      <td>1.0</td>\n",
       "      <td>8.000</td>\n",
       "    </tr>\n",
       "    <tr>\n",
       "      <th>2</th>\n",
       "      <td>20240617</td>\n",
       "      <td>202309</td>\n",
       "      <td>AB15E7A5EFBF38FF294B52714DE9ABACA86B3D1EDB437A...</td>\n",
       "      <td>19451111</td>\n",
       "      <td>77</td>\n",
       "      <td>FEMENINO</td>\n",
       "      <td>NaN</td>\n",
       "      <td>200115</td>\n",
       "      <td>PIURA</td>\n",
       "      <td>PIURA</td>\n",
       "      <td>...</td>\n",
       "      <td>DEFINITIVO</td>\n",
       "      <td>130.0</td>\n",
       "      <td>70.0</td>\n",
       "      <td>MEDICAMENTO</td>\n",
       "      <td>01636</td>\n",
       "      <td>CEFALEXINA</td>\n",
       "      <td>NaN</td>\n",
       "      <td>TAB</td>\n",
       "      <td>24.0</td>\n",
       "      <td>0.000</td>\n",
       "    </tr>\n",
       "  </tbody>\n",
       "</table>\n",
       "<p>3 rows × 31 columns</p>\n",
       "</div>"
      ],
      "text/plain": [
       "   FECHA_CORTE  ULTIMO_MES_CONSUMOS  \\\n",
       "0     20240617               202309   \n",
       "1     20240617               202309   \n",
       "2     20240617               202309   \n",
       "\n",
       "                                  CODIGO_ANONIMIZADO  FECHA_NACIMIENTO  EDAD  \\\n",
       "0  FFDFCB0F1263583AAEE30C7B09CF4677F8920507437D5B...          19581220    63   \n",
       "1  991D0ABACAC7A6DEF8B23E1400E11D6A943BEEF10118A1...          19430310    79   \n",
       "2  AB15E7A5EFBF38FF294B52714DE9ABACA86B3D1EDB437A...          19451111    77   \n",
       "\n",
       "        SEXO  FECHA_FALLECIMIENTO  UBIGEO DEPARTAMENTO PROVINCIA  ...  \\\n",
       "0   FEMENINO                  NaN  150135         LIMA      LIMA  ...   \n",
       "1  MASCULINO           20230810.0  150110         LIMA      LIMA  ...   \n",
       "2   FEMENINO                  NaN  200115        PIURA     PIURA  ...   \n",
       "\n",
       "  TIPO_DIAGNOSTICO  PRES_ART_SISTOLICA  PRES_ART_DIASTOLICA TIPO_CONSUMO  \\\n",
       "0  DEFINITIVO                      NaN                  NaN  MEDICAMENTO   \n",
       "1  REPETIDO                        NaN                  NaN  MEDICAMENTO   \n",
       "2  DEFINITIVO                    130.0                 70.0  MEDICAMENTO   \n",
       "\n",
       "   CODIGO_CONSUMO NOMBRE_CONSUMO  PRESENTACION_MEDICAMENTO FORMA_FARMACEUTICA  \\\n",
       "0           06519  YODO POVIDONA                    120 mL                SOL   \n",
       "1           01358     BUDESONIDA                 200 DOSIS                AER   \n",
       "2           01636     CEFALEXINA                       NaN                TAB   \n",
       "\n",
       "  CANTIDAD_ENTREGADA VALOR_NETO  \n",
       "0                1.0      2.313  \n",
       "1                1.0      8.000  \n",
       "2               24.0      0.000  \n",
       "\n",
       "[3 rows x 31 columns]"
      ]
     },
     "execution_count": 32,
     "metadata": {},
     "output_type": "execute_result"
    }
   ],
   "source": [
    "df.head(3) # Ver las primeras 3 filas del primer fragmento\n",
    "\n",
    "#  Iterar sobre todos los fragmentos\n",
    "#   for chunk in df_chunks:\n",
    "#       print(chunk.head(3))  # Muestra las primeras 3 filas de cada fragmento\n"
   ]
  },
  {
   "cell_type": "code",
   "execution_count": 35,
   "metadata": {},
   "outputs": [
    {
     "name": "stdout",
     "output_type": "stream",
     "text": [
      "FECHA_CORTE                  0.000000\n",
      "ULTIMO_MES_CONSUMOS          0.000000\n",
      "CODIGO_ANONIMIZADO           0.000000\n",
      "FECHA_NACIMIENTO             0.000000\n",
      "EDAD                         0.000000\n",
      "SEXO                         0.000000\n",
      "FECHA_FALLECIMIENTO         88.303760\n",
      "UBIGEO                       0.000000\n",
      "DEPARTAMENTO                 0.000000\n",
      "PROVINCIA                    0.000000\n",
      "DISTRITO                     0.000000\n",
      "NIVEL_EESS                   0.000000\n",
      "CODIGO_SERV_PRESTACIONAL     0.000000\n",
      "SERVICIO_PRESTACIONAL        0.000000\n",
      "DIAS_HOSP                   66.744303\n",
      "ID_REGISTRO_REL              0.000000\n",
      "FECHA_ATENCION               0.000000\n",
      "TIPO_PERSONAL_SALUD          0.000021\n",
      "FECATE_POST_FECFED           0.000000\n",
      "CODDIA                       0.000000\n",
      "C10_NOMBRE                   0.000000\n",
      "TIPO_DIAGNOSTICO             0.000000\n",
      "PRES_ART_SISTOLICA          57.171629\n",
      "PRES_ART_DIASTOLICA         57.171629\n",
      "TIPO_CONSUMO                 0.000000\n",
      "CODIGO_CONSUMO               6.270955\n",
      "NOMBRE_CONSUMO               6.270955\n",
      "PRESENTACION_MEDICAMENTO    87.567469\n",
      "FORMA_FARMACEUTICA          52.137804\n",
      "CANTIDAD_ENTREGADA           6.270955\n",
      "VALOR_NETO                   6.270955\n"
     ]
    }
   ],
   "source": [
    "import pandas as pd\n",
    "\n",
    "# Definir el tamaño de los chunks\n",
    "chunksize = 10**6  # Leer 1 millón de filas por chunk\n",
    "\n",
    "# Ruta al archivo CSV -- csv_file --\n",
    "\n",
    "# Inicializar variables para contar NaN y total de filas\n",
    "missing_counts = None\n",
    "total_rows = 0\n",
    "\n",
    "# Procesar el archivo en chunks\n",
    "for chunk in pd.read_csv(csv_file, chunksize=chunksize):\n",
    "    # Contar valores NaN en cada columna del chunk\n",
    "    chunk_missing = chunk.isna().sum()\n",
    "\n",
    "    # Acumular los valores faltantes y el número de filas\n",
    "    if missing_counts is None:\n",
    "        missing_counts = chunk_missing\n",
    "    else:\n",
    "        missing_counts += chunk_missing\n",
    "\n",
    "    # Acumular el número total de filas procesadas\n",
    "    total_rows += len(chunk)\n",
    "\n",
    "# Calcular el porcentaje de valores faltantes por columna\n",
    "missing_percentage = (missing_counts / total_rows) * 100\n",
    "\n",
    "# Mostrar el resultado\n",
    "print(missing_percentage.to_string())\n"
   ]
  },
  {
   "cell_type": "code",
   "execution_count": 34,
   "metadata": {},
   "outputs": [
    {
     "name": "stdout",
     "output_type": "stream",
     "text": [
      "Total de valores vacíos en la columna 'FECHA_CORTE': 0\n"
     ]
    }
   ],
   "source": [
    "import pandas as pd\n",
    "\n",
    "# Definir el tamaño de los chunks\n",
    "chunksize = 10**6  # Leer 1 millón de filas por chunk\n",
    "\n",
    "# Especificar la columna de interés\n",
    "columna_interes = 'FECHA_CORTE'\n",
    "\n",
    "# Inicializar el conteo de valores NaN\n",
    "missing_count = 0\n",
    "\n",
    "# Ruta al archivo CSV -- csv_file --\n",
    "\n",
    "# Procesar el archivo en chunks\n",
    "for chunk in pd.read_csv(csv_file, chunksize=chunksize, usecols=[columna_interes]):\n",
    "    # Contar los valores NaN en la columna de interés en este chunk\n",
    "    chunk_missing = chunk[columna_interes].isna().sum()\n",
    "    \n",
    "    # Acumular el conteo de valores faltantes\n",
    "    missing_count += chunk_missing\n",
    "\n",
    "# Mostrar el total de valores faltantes en la columna\n",
    "print(f\"Total de valores vacíos en la columna '{columna_interes}': {missing_count}\")\n"
   ]
  },
  {
   "cell_type": "markdown",
   "metadata": {},
   "source": [
    "Importanto datos"
   ]
  },
  {
   "cell_type": "code",
   "execution_count": 4,
   "metadata": {},
   "outputs": [
    {
     "name": "stdout",
     "output_type": "stream",
     "text": [
      "Cantidad total de registros en el archivo: 57499950\n"
     ]
    }
   ],
   "source": [
    "import pandas as pd\n",
    "\n",
    "# Definir el tamaño de los chunks\n",
    "chunksize = 12**6  # Leer 1 millón de filas por chunk\n",
    "\n",
    "# Inicializar el contador de filas\n",
    "total_rows = 0\n",
    "\n",
    "csv_file = \"C:\\\\Users\\lxcar\\\\OneDrive\\\\Desktop\\\\Datathon 2024\\\\datathon2024\\\\data\\\\Prestaciones de salud asociadas a los asegurados con Hipertensión Arterial.csv\"\n",
    "\n",
    "# Iterar sobre cada chunk\n",
    "for chunk in pd.read_csv(csv_file, chunksize=chunksize):\n",
    "    # Sumar el número de filas en cada chunk\n",
    "    total_rows += len(chunk)\n",
    "\n",
    "print(f\"Cantidad total de registros en el archivo: {total_rows}\")\n"
   ]
  },
  {
   "cell_type": "code",
   "execution_count": 5,
   "metadata": {},
   "outputs": [],
   "source": [
    "csv_file = \"C:\\\\Users\\lxcar\\\\OneDrive\\\\Desktop\\\\Datathon 2024\\\\datathon2024\\\\data\\\\Prestaciones de salud asociadas a los asegurados con Hipertensión Arterial.csv\""
   ]
  },
  {
   "cell_type": "code",
   "execution_count": 6,
   "metadata": {},
   "outputs": [
    {
     "name": "stdout",
     "output_type": "stream",
     "text": [
      "La correlación entre 'PRES_ART_SISTOLICA' y 'PRES_ART_DIASTOLICA' es: 0.6496568208146823\n"
     ]
    }
   ],
   "source": [
    "import pandas as pd\n",
    "\n",
    "# Definir el tamaño de los chunks\n",
    "chunksize = 14**6  # Leer 1 millón de filas por chunk\n",
    "\n",
    "# Inicializar acumuladores para las estadísticas\n",
    "n = 0  # Cantidad de filas\n",
    "sum_x = sum_y = 0  # Sumas de las columnas\n",
    "sum_x2 = sum_y2 = 0  # Sumas de los cuadrados\n",
    "sum_xy = 0  # Suma de productos\n",
    "\n",
    "# Especifica las columnas de las que deseas calcular la correlación\n",
    "col_x = 'PRES_ART_SISTOLICA'  # Nombre de la primera columna\n",
    "col_y = 'PRES_ART_DIASTOLICA'  # Nombre de la segunda columna\n",
    "\n",
    "# Procesar el archivo en chunks\n",
    "csv_file = \"C:\\\\Users\\lxcar\\\\OneDrive\\\\Desktop\\\\Datathon 2024\\\\datathon2024\\\\data\\\\Prestaciones de salud asociadas a los asegurados con Hipertensión Arterial.csv\"\n",
    "\n",
    "for chunk in pd.read_csv(csv_file, chunksize=chunksize, usecols=[col_x, col_y]):\n",
    "    # Elimina filas con valores NaN en las columnas seleccionadas\n",
    "    chunk = chunk.dropna(subset=[col_x, col_y])\n",
    "\n",
    "    # Cantidad de filas en el chunk\n",
    "    n_chunk = len(chunk)\n",
    "\n",
    "    # Acumular estadísticas\n",
    "    sum_x += chunk[col_x].sum()\n",
    "    sum_y += chunk[col_y].sum()\n",
    "    sum_x2 += (chunk[col_x] ** 2).sum()\n",
    "    sum_y2 += (chunk[col_y] ** 2).sum()\n",
    "    sum_xy += (chunk[col_x] * chunk[col_y]).sum()\n",
    "\n",
    "    # Incrementar el total de filas\n",
    "    n += n_chunk\n",
    "\n",
    "# Calcular los promedios\n",
    "mean_x = sum_x / n\n",
    "mean_y = sum_y / n\n",
    "\n",
    "# Calcular la covarianza y las desviaciones estándar\n",
    "cov_xy = (sum_xy - n * mean_x * mean_y) / n\n",
    "std_x = ((sum_x2 - n * mean_x ** 2) / n) ** 0.5\n",
    "std_y = ((sum_y2 - n * mean_y ** 2) / n) ** 0.5\n",
    "\n",
    "# Calcular la correlación de Pearson\n",
    "correlation = cov_xy / (std_x * std_y)\n",
    "\n",
    "print(f\"La correlación entre '{col_x}' y '{col_y}' es: {correlation}\")\n"
   ]
  },
  {
   "cell_type": "markdown",
   "metadata": {},
   "source": [
    "CORRELACION ENTRE EDAD Y PRESION ARTERIAL DIASTOLICA"
   ]
  },
  {
   "cell_type": "code",
   "execution_count": 7,
   "metadata": {},
   "outputs": [
    {
     "name": "stdout",
     "output_type": "stream",
     "text": [
      "La correlación entre 'EDAD' y 'PRES_ART_DIASTOLICA' es: -0.04366642075207734\n"
     ]
    }
   ],
   "source": [
    "# Definir el tamaño de los chunks\n",
    "chunksize = 14**6  # Leer 1 millón de filas por chunk\n",
    "\n",
    "# Inicializar acumuladores para las estadísticas\n",
    "n = 0  # Cantidad de filas\n",
    "sum_x = sum_y = 0  # Sumas de las columnas\n",
    "sum_x2 = sum_y2 = 0  # Sumas de los cuadrados\n",
    "sum_xy = 0  # Suma de productos\n",
    "\n",
    "# Especifica las columnas de las que deseas calcular la correlación\n",
    "col_x = 'EDAD'  # Nombre de la primera columna\n",
    "col_y = 'PRES_ART_DIASTOLICA'  # Nombre de la segunda columna\n",
    "\n",
    "# Procesar el archivo en chunks\n",
    "csv_file = \"C:\\\\Users\\lxcar\\\\OneDrive\\\\Desktop\\\\Datathon 2024\\\\datathon2024\\\\data\\\\Prestaciones de salud asociadas a los asegurados con Hipertensión Arterial.csv\"\n",
    "\n",
    "for chunk in pd.read_csv(csv_file, chunksize=chunksize, usecols=[col_x, col_y]):\n",
    "    # Elimina filas con valores NaN en las columnas seleccionadas\n",
    "    chunk = chunk.dropna(subset=[col_x, col_y])\n",
    "\n",
    "    # Cantidad de filas en el chunk\n",
    "    n_chunk = len(chunk)\n",
    "\n",
    "    # Acumular estadísticas\n",
    "    sum_x += chunk[col_x].sum()\n",
    "    sum_y += chunk[col_y].sum()\n",
    "    sum_x2 += (chunk[col_x] ** 2).sum()\n",
    "    sum_y2 += (chunk[col_y] ** 2).sum()\n",
    "    sum_xy += (chunk[col_x] * chunk[col_y]).sum()\n",
    "\n",
    "    # Incrementar el total de filas\n",
    "    n += n_chunk\n",
    "\n",
    "# Calcular los promedios\n",
    "mean_x = sum_x / n\n",
    "mean_y = sum_y / n\n",
    "\n",
    "# Calcular la covarianza y las desviaciones estándar\n",
    "cov_xy = (sum_xy - n * mean_x * mean_y) / n\n",
    "std_x = ((sum_x2 - n * mean_x ** 2) / n) ** 0.5\n",
    "std_y = ((sum_y2 - n * mean_y ** 2) / n) ** 0.5\n",
    "\n",
    "# Calcular la correlación de Pearson\n",
    "correlation = cov_xy / (std_x * std_y)\n",
    "\n",
    "print(f\"La correlación entre '{col_x}' y '{col_y}' es: {correlation}\")"
   ]
  },
  {
   "cell_type": "markdown",
   "metadata": {},
   "source": []
  },
  {
   "cell_type": "code",
   "execution_count": 8,
   "metadata": {},
   "outputs": [
    {
     "name": "stdout",
     "output_type": "stream",
     "text": [
      "La correlación entre 'DIAS_HOSP' y 'PRES_ART_DIASTOLICA' es: 0.03396693050226739\n"
     ]
    }
   ],
   "source": [
    "# Definir el tamaño de los chunks\n",
    "chunksize = 14**6  # Leer 1 millón de filas por chunk\n",
    "\n",
    "# Inicializar acumuladores para las estadísticas\n",
    "n = 0  # Cantidad de filas\n",
    "sum_x = sum_y = 0  # Sumas de las columnas\n",
    "sum_x2 = sum_y2 = 0  # Sumas de los cuadrados\n",
    "sum_xy = 0  # Suma de productos\n",
    "\n",
    "# Especifica las columnas de las que deseas calcular la correlación\n",
    "col_x = 'DIAS_HOSP'  # Nombre de la primera columna\n",
    "col_y = 'PRES_ART_DIASTOLICA'  # Nombre de la segunda columna\n",
    "\n",
    "# Procesar el archivo en chunks\n",
    "csv_file = \"C:\\\\Users\\lxcar\\\\OneDrive\\\\Desktop\\\\Datathon 2024\\\\datathon2024\\\\data\\\\Prestaciones de salud asociadas a los asegurados con Hipertensión Arterial.csv\"\n",
    "\n",
    "for chunk in pd.read_csv(csv_file, chunksize=chunksize, usecols=[col_x, col_y]):\n",
    "    # Elimina filas con valores NaN en las columnas seleccionadas\n",
    "    chunk = chunk.dropna(subset=[col_x, col_y])\n",
    "\n",
    "    # Cantidad de filas en el chunk\n",
    "    n_chunk = len(chunk)\n",
    "\n",
    "    # Acumular estadísticas\n",
    "    sum_x += chunk[col_x].sum()\n",
    "    sum_y += chunk[col_y].sum()\n",
    "    sum_x2 += (chunk[col_x] ** 2).sum()\n",
    "    sum_y2 += (chunk[col_y] ** 2).sum()\n",
    "    sum_xy += (chunk[col_x] * chunk[col_y]).sum()\n",
    "\n",
    "    # Incrementar el total de filas\n",
    "    n += n_chunk\n",
    "\n",
    "# Calcular los promedios\n",
    "mean_x = sum_x / n\n",
    "mean_y = sum_y / n\n",
    "\n",
    "# Calcular la covarianza y las desviaciones estándar\n",
    "cov_xy = (sum_xy - n * mean_x * mean_y) / n\n",
    "std_x = ((sum_x2 - n * mean_x ** 2) / n) ** 0.5\n",
    "std_y = ((sum_y2 - n * mean_y ** 2) / n) ** 0.5\n",
    "\n",
    "# Calcular la correlación de Pearson\n",
    "correlation = cov_xy / (std_x * std_y)\n",
    "\n",
    "print(f\"La correlación entre '{col_x}' y '{col_y}' es: {correlation}\")"
   ]
  },
  {
   "cell_type": "markdown",
   "metadata": {},
   "source": [
    "## GRAFICOS"
   ]
  },
  {
   "cell_type": "code",
   "execution_count": 10,
   "metadata": {},
   "outputs": [
    {
     "data": {
      "image/png": "[encoded data removed]",
      "text/plain": [
       "<Figure size 640x480 with 1 Axes>"
      ]
     },
     "metadata": {},
     "output_type": "display_data"
    }
   ],
   "source": [
    "import pandas as pd\n",
    "import matplotlib.pyplot as plt\n",
    "\n",
    "# Definir el tamaño de los chunks\n",
    "chunksize = 14**6  # Leer 1 millón de filas por chunk\n",
    "\n",
    "# Inicializar una lista para almacenar los valores de EDAD\n",
    "edad_data = []\n",
    "\n",
    "# Procesar el archivo en chunks\n",
    "csv_file = \"C:\\\\Users\\lxcar\\\\OneDrive\\\\Desktop\\\\Datathon 2024\\\\datathon2024\\\\data\\\\Prestaciones de salud asociadas a los asegurados con Hipertensión Arterial.csv\"\n",
    "\n",
    "for chunk in pd.read_csv(csv_file, chunksize=chunksize, usecols=['EDAD']):\n",
    "    # Eliminar valores NaN en la columna EDAD\n",
    "    chunk = chunk.dropna(subset=['EDAD'])\n",
    "\n",
    "    # Extender los valores de EDAD a la lista edad_data\n",
    "    edad_data.extend(chunk['EDAD'].tolist())\n",
    "\n",
    "# Crear el histograma con todos los datos acumulados\n",
    "plt.hist(edad_data, bins=30, edgecolor='black')\n",
    "\n",
    "# Añadir títulos y etiquetas\n",
    "plt.title('Histograma de EDAD')\n",
    "plt.xlabel('Edad')\n",
    "plt.ylabel('Frecuencia')\n",
    "\n",
    "# Mostrar el histograma\n",
    "plt.show()\n"
   ]
  },
  {
   "cell_type": "markdown",
   "metadata": {},
   "source": [
    "## prueba de variable numeriuca y categorica"
   ]
  },
  {
   "cell_type": "code",
   "execution_count": 11,
   "metadata": {},
   "outputs": [
    {
     "name": "stdout",
     "output_type": "stream",
     "text": [
      "Cramér's V: 0.0992651833313129\n"
     ]
    }
   ],
   "source": [
    "import pandas as pd\n",
    "import numpy as np\n",
    "from scipy.stats import chi2_contingency\n",
    "\n",
    "# Definir el tamaño de los chunks\n",
    "chunksize = 10**6  # Leer 1 millón de filas por chunk\n",
    "\n",
    "# Inicializar la tabla de contingencia\n",
    "contingency_table = None\n",
    "\n",
    "# Especificar las columnas de interés\n",
    "col_numeric = 'PRES_ART_SISTOLICA'\n",
    "col_categorical = 'CODIGO_SERV_PRESTACIONAL'\n",
    "\n",
    "# Definir el número de bins (intervalos) o cuantiles\n",
    "num_bins = 5  # Ajusta según la cantidad de categorías que desees\n",
    "\n",
    "# Procesar el archivo en chunks\n",
    "csv_file = \"C:\\\\Users\\lxcar\\\\OneDrive\\\\Desktop\\\\Datathon 2024\\\\datathon2024\\\\data\\\\Prestaciones de salud asociadas a los asegurados con Hipertensión Arterial.csv\"\n",
    "\n",
    "for chunk in pd.read_csv(csv_file, chunksize=chunksize, usecols=[col_numeric, col_categorical]):\n",
    "    # Eliminar filas con valores NaN en las columnas de interés\n",
    "    chunk = chunk.dropna(subset=[col_numeric, col_categorical])\n",
    "\n",
    "    # Opción 1: Categorizar usando cuantiles\n",
    "    chunk['PRES_ART_SISTOLICA_CAT'] = pd.qcut(chunk[col_numeric], q=num_bins, labels=False, duplicates='drop')\n",
    "\n",
    "    # Opción 2: Categorizar usando intervalos regulares (bins)\n",
    "    # chunk['PRES_ART_SISTOLICA_CAT'] = pd.cut(chunk[col_numeric], bins=num_bins, labels=False)\n",
    "\n",
    "    # Crear tabla de contingencia para este chunk\n",
    "    chunk_contingency = pd.crosstab(chunk['PRES_ART_SISTOLICA_CAT'], chunk[col_categorical])\n",
    "\n",
    "    # Sumar la tabla de contingencia al total\n",
    "    if contingency_table is None:\n",
    "        contingency_table = chunk_contingency\n",
    "    else:\n",
    "        contingency_table = contingency_table.add(chunk_contingency, fill_value=0)\n",
    "\n",
    "# Calcular el estadístico Chi-cuadrado\n",
    "chi2, p, dof, expected = chi2_contingency(contingency_table)\n",
    "\n",
    "# Calcular Cramér's V\n",
    "n = contingency_table.sum().sum()  # Número total de observaciones\n",
    "r, k = contingency_table.shape  # Número de filas y columnas\n",
    "cramers_v = np.sqrt(chi2 / (n * (min(k - 1, r - 1))))\n",
    "\n",
    "print(f\"Cramér's V: {cramers_v}\")\n"
   ]
  },
  {
   "cell_type": "code",
   "execution_count": 4,
   "metadata": {},
   "outputs": [
    {
     "data": {
      "text/plain": [
       "Index(['FECHA_CORTE', 'ULTIMO_MES_CONSUMOS', 'CODIGO_ANONIMIZADO',\n",
       "       'FECHA_NACIMIENTO', 'EDAD', 'SEXO', 'FECHA_FALLECIMIENTO', 'UBIGEO',\n",
       "       'DEPARTAMENTO', 'PROVINCIA', 'DISTRITO', 'NIVEL_EESS',\n",
       "       'CODIGO_SERV_PRESTACIONAL', 'SERVICIO_PRESTACIONAL', 'DIAS_HOSP',\n",
       "       'ID_REGISTRO_REL', 'FECHA_ATENCION', 'TIPO_PERSONAL_SALUD',\n",
       "       'FECATE_POST_FECFED', 'CODDIA', 'C10_NOMBRE', 'TIPO_DIAGNOSTICO',\n",
       "       'PRES_ART_SISTOLICA', 'PRES_ART_DIASTOLICA', 'TIPO_CONSUMO',\n",
       "       'CODIGO_CONSUMO', 'NOMBRE_CONSUMO', 'PRESENTACION_MEDICAMENTO',\n",
       "       'FORMA_FARMACEUTICA', 'CANTIDAD_ENTREGADA', 'VALOR_NETO'],\n",
       "      dtype='object')"
      ]
     },
     "execution_count": 4,
     "metadata": {},
     "output_type": "execute_result"
    }
   ],
   "source": [
    "df.columns"
   ]
  }
 ],
 "metadata": {
  "kernelspec": {
   "display_name": "datathon2024",
   "language": "python",
   "name": "python3"
  },
  "language_info": {
   "codemirror_mode": {
    "name": "ipython",
    "version": 3
   },
   "file_extension": ".py",
   "mimetype": "text/x-python",
   "name": "python",
   "nbconvert_exporter": "python",
   "pygments_lexer": "ipython3",
   "version": "3.11.9"
  }
 },
 "nbformat": 4,
 "nbformat_minor": 2
}
